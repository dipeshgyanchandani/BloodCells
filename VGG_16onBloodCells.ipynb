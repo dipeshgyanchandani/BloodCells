{
  "nbformat": 4,
  "nbformat_minor": 0,
  "metadata": {
    "colab": {
      "name": "VGG-16onBloodCells.ipynb",
      "provenance": []
    },
    "kernelspec": {
      "name": "python3",
      "display_name": "Python 3"
    },
    "accelerator": "GPU"
  },
  "cells": [
    {
      "cell_type": "code",
      "metadata": {
        "id": "7J_fCpXlMR2f",
        "colab_type": "code",
        "colab": {}
      },
      "source": [
        "import matplotlib.pyplot as plt\n",
        "import numpy as np\n",
        "\n",
        "import torch\n",
        "import torchvision\n",
        "import torchvision.transforms as transforms\n",
        "import torch.nn as nn\n",
        "import torch.optim as optim\n",
        "from torch.utils.data.sampler import SubsetRandomSampler\n"
      ],
      "execution_count": 1,
      "outputs": []
    },
    {
      "cell_type": "code",
      "metadata": {
        "id": "sY8004L7Mozl",
        "colab_type": "code",
        "colab": {
          "base_uri": "https://localhost:8080/",
          "height": 34
        },
        "outputId": "a3bebc36-230f-402d-e5e0-ff4d16c65e72"
      },
      "source": [
        "device = torch.device(\"cuda:0\" if torch.cuda.is_available() else \"cpu\")\n",
        "print(device)"
      ],
      "execution_count": 2,
      "outputs": [
        {
          "output_type": "stream",
          "text": [
            "cuda:0\n"
          ],
          "name": "stdout"
        }
      ]
    },
    {
      "cell_type": "code",
      "metadata": {
        "id": "u8WS9h3WNBKp",
        "colab_type": "code",
        "colab": {
          "base_uri": "https://localhost:8080/",
          "height": 122
        },
        "outputId": "81884562-f2ad-4dc4-f9c5-0119bd470262"
      },
      "source": [
        "from google.colab import drive\n",
        "drive.mount('/content/drive')"
      ],
      "execution_count": 3,
      "outputs": [
        {
          "output_type": "stream",
          "text": [
            "Go to this URL in a browser: https://accounts.google.com/o/oauth2/auth?client_id=947318989803-6bn6qk8qdgf4n4g3pfee6491hc0brc4i.apps.googleusercontent.com&redirect_uri=urn%3aietf%3awg%3aoauth%3a2.0%3aoob&scope=email%20https%3a%2f%2fwww.googleapis.com%2fauth%2fdocs.test%20https%3a%2f%2fwww.googleapis.com%2fauth%2fdrive%20https%3a%2f%2fwww.googleapis.com%2fauth%2fdrive.photos.readonly%20https%3a%2f%2fwww.googleapis.com%2fauth%2fpeopleapi.readonly&response_type=code\n",
            "\n",
            "Enter your authorization code:\n",
            "··········\n",
            "Mounted at /content/drive\n"
          ],
          "name": "stdout"
        }
      ]
    },
    {
      "cell_type": "code",
      "metadata": {
        "id": "36ELqib9NDgi",
        "colab_type": "code",
        "colab": {
          "base_uri": "https://localhost:8080/",
          "height": 34
        },
        "outputId": "eb09e93e-8295-4283-a94d-2e996ac1a32e"
      },
      "source": [
        "import os\n",
        "print(os.listdir(\"./drive/My Drive/cell_images/\"))\n"
      ],
      "execution_count": 4,
      "outputs": [
        {
          "output_type": "stream",
          "text": [
            "['Uninfected', 'Parasitized']\n"
          ],
          "name": "stdout"
        }
      ]
    },
    {
      "cell_type": "code",
      "metadata": {
        "id": "A-BDydSpNMEM",
        "colab_type": "code",
        "colab": {}
      },
      "source": [
        "img_dir='./drive/My Drive/cell_images/'"
      ],
      "execution_count": 5,
      "outputs": []
    },
    {
      "cell_type": "code",
      "metadata": {
        "id": "uFj3xNrxNW-M",
        "colab_type": "code",
        "colab": {}
      },
      "source": [
        "transform_train = transforms.Compose([\n",
        "                                      transforms.RandomResizedCrop(256), #takes random location and resize it and crop it to given size\n",
        "                                      transforms.ToTensor(), # coverting it to tensor. note the sequence of functions\n",
        "                                      transforms.Normalize((0.5, 0.5, 0.5), (0.5, 0.5, 0.5)) \n",
        "                                      #mean and standard deviation equally to RGB\n",
        "])\n",
        "transform_test = transforms.Compose([\n",
        "                                      transforms.RandomResizedCrop(256),\n",
        "                                      transforms.ToTensor(),\n",
        "                                      transforms.Normalize((0.5, 0.5, 0.5), (0.5, 0.5, 0.5))\n",
        "])\n"
      ],
      "execution_count": 6,
      "outputs": []
    },
    {
      "cell_type": "code",
      "metadata": {
        "id": "4mVmKifENY0S",
        "colab_type": "code",
        "colab": {}
      },
      "source": [
        "train_data = torchvision.datasets.ImageFolder(img_dir,transform=transform_train)"
      ],
      "execution_count": 7,
      "outputs": []
    },
    {
      "cell_type": "code",
      "metadata": {
        "id": "FUxuK62zNayT",
        "colab_type": "code",
        "colab": {
          "base_uri": "https://localhost:8080/",
          "height": 34
        },
        "outputId": "3c9b643e-ab58-4cc8-ada5-4086a89463ec"
      },
      "source": [
        "print(len(train_data))"
      ],
      "execution_count": 8,
      "outputs": [
        {
          "output_type": "stream",
          "text": [
            "27558\n"
          ],
          "name": "stdout"
        }
      ]
    },
    {
      "cell_type": "code",
      "metadata": {
        "id": "3q_eSfFUNjZQ",
        "colab_type": "code",
        "colab": {
          "base_uri": "https://localhost:8080/",
          "height": 34
        },
        "outputId": "164d517a-31be-4765-bacf-b0ec613d3744"
      },
      "source": [
        "# number of subprocesses to use for data loading\n",
        "num_workers = 0\n",
        "# percentage of training set to use as validation\n",
        "valid_size = 0.2\n",
        "\n",
        "test_size = 0.1\n",
        "\n",
        "# obtain training indices that will be used for validation\n",
        "num_train = len(train_data)\n",
        "indices = list(range(num_train))\n",
        "np.random.shuffle(indices)\n",
        "valid_split = int(np.floor((valid_size) * num_train))\n",
        "test_split = int(np.floor((valid_size+test_size) * num_train))\n",
        "valid_idx, test_idx, train_idx = indices[:valid_split], indices[valid_split:test_split], indices[test_split:]\n",
        "\n",
        "print(len(valid_idx), len(test_idx), len(train_idx))\n",
        "\n",
        "# define samplers for obtaining training and validation batches\n",
        "train_sampler = SubsetRandomSampler(train_idx)\n",
        "valid_sampler = SubsetRandomSampler(valid_idx)\n",
        "test_sampler = SubsetRandomSampler(test_idx)\n",
        "\n",
        "# prepare data loaders (combine dataset and sampler)\n",
        "train_loader = torch.utils.data.DataLoader(train_data, batch_size=32,\n",
        "    sampler=train_sampler, num_workers=num_workers)\n",
        "valid_loader = torch.utils.data.DataLoader(train_data, batch_size=16, \n",
        "    sampler=valid_sampler, num_workers=num_workers)\n",
        "test_loader = torch.utils.data.DataLoader(train_data, batch_size=10, \n",
        "    sampler=test_sampler, num_workers=num_workers)"
      ],
      "execution_count": 11,
      "outputs": [
        {
          "output_type": "stream",
          "text": [
            "5511 2756 19291\n"
          ],
          "name": "stdout"
        }
      ]
    },
    {
      "cell_type": "code",
      "metadata": {
        "id": "h0qZqMAwNpcV",
        "colab_type": "code",
        "colab": {
          "base_uri": "https://localhost:8080/",
          "height": 68
        },
        "outputId": "60918f4a-9d67-48bc-ade0-0228e3ccff01"
      },
      "source": [
        "dataiter = iter(train_loader)\n",
        "images, labels = dataiter.next()\n",
        "\n",
        "print(images.shape)\n",
        "\n",
        "print(images[1].shape)\n",
        "print(labels[1].item())"
      ],
      "execution_count": 12,
      "outputs": [
        {
          "output_type": "stream",
          "text": [
            "torch.Size([32, 3, 256, 256])\n",
            "torch.Size([3, 256, 256])\n",
            "0\n"
          ],
          "name": "stdout"
        }
      ]
    },
    {
      "cell_type": "code",
      "metadata": {
        "id": "WswaeOUvNsAE",
        "colab_type": "code",
        "colab": {}
      },
      "source": [
        "num_classes = 2"
      ],
      "execution_count": 15,
      "outputs": []
    },
    {
      "cell_type": "code",
      "metadata": {
        "id": "STC1eoX3OFJk",
        "colab_type": "code",
        "colab": {}
      },
      "source": [
        "from torchvision import models"
      ],
      "execution_count": 16,
      "outputs": []
    },
    {
      "cell_type": "code",
      "metadata": {
        "id": "WKZ928s2ORF4",
        "colab_type": "code",
        "colab": {}
      },
      "source": [
        "vgg = models.vgg16_bn() "
      ],
      "execution_count": 17,
      "outputs": []
    },
    {
      "cell_type": "code",
      "metadata": {
        "id": "h6PyOLpPOTPg",
        "colab_type": "code",
        "colab": {
          "base_uri": "https://localhost:8080/",
          "height": 1000
        },
        "outputId": "2d43d72a-2ccd-4f9c-c3ca-d5930417cadb"
      },
      "source": [
        "print(vgg)"
      ],
      "execution_count": 18,
      "outputs": [
        {
          "output_type": "stream",
          "text": [
            "VGG(\n",
            "  (features): Sequential(\n",
            "    (0): Conv2d(3, 64, kernel_size=(3, 3), stride=(1, 1), padding=(1, 1))\n",
            "    (1): BatchNorm2d(64, eps=1e-05, momentum=0.1, affine=True, track_running_stats=True)\n",
            "    (2): ReLU(inplace=True)\n",
            "    (3): Conv2d(64, 64, kernel_size=(3, 3), stride=(1, 1), padding=(1, 1))\n",
            "    (4): BatchNorm2d(64, eps=1e-05, momentum=0.1, affine=True, track_running_stats=True)\n",
            "    (5): ReLU(inplace=True)\n",
            "    (6): MaxPool2d(kernel_size=2, stride=2, padding=0, dilation=1, ceil_mode=False)\n",
            "    (7): Conv2d(64, 128, kernel_size=(3, 3), stride=(1, 1), padding=(1, 1))\n",
            "    (8): BatchNorm2d(128, eps=1e-05, momentum=0.1, affine=True, track_running_stats=True)\n",
            "    (9): ReLU(inplace=True)\n",
            "    (10): Conv2d(128, 128, kernel_size=(3, 3), stride=(1, 1), padding=(1, 1))\n",
            "    (11): BatchNorm2d(128, eps=1e-05, momentum=0.1, affine=True, track_running_stats=True)\n",
            "    (12): ReLU(inplace=True)\n",
            "    (13): MaxPool2d(kernel_size=2, stride=2, padding=0, dilation=1, ceil_mode=False)\n",
            "    (14): Conv2d(128, 256, kernel_size=(3, 3), stride=(1, 1), padding=(1, 1))\n",
            "    (15): BatchNorm2d(256, eps=1e-05, momentum=0.1, affine=True, track_running_stats=True)\n",
            "    (16): ReLU(inplace=True)\n",
            "    (17): Conv2d(256, 256, kernel_size=(3, 3), stride=(1, 1), padding=(1, 1))\n",
            "    (18): BatchNorm2d(256, eps=1e-05, momentum=0.1, affine=True, track_running_stats=True)\n",
            "    (19): ReLU(inplace=True)\n",
            "    (20): Conv2d(256, 256, kernel_size=(3, 3), stride=(1, 1), padding=(1, 1))\n",
            "    (21): BatchNorm2d(256, eps=1e-05, momentum=0.1, affine=True, track_running_stats=True)\n",
            "    (22): ReLU(inplace=True)\n",
            "    (23): MaxPool2d(kernel_size=2, stride=2, padding=0, dilation=1, ceil_mode=False)\n",
            "    (24): Conv2d(256, 512, kernel_size=(3, 3), stride=(1, 1), padding=(1, 1))\n",
            "    (25): BatchNorm2d(512, eps=1e-05, momentum=0.1, affine=True, track_running_stats=True)\n",
            "    (26): ReLU(inplace=True)\n",
            "    (27): Conv2d(512, 512, kernel_size=(3, 3), stride=(1, 1), padding=(1, 1))\n",
            "    (28): BatchNorm2d(512, eps=1e-05, momentum=0.1, affine=True, track_running_stats=True)\n",
            "    (29): ReLU(inplace=True)\n",
            "    (30): Conv2d(512, 512, kernel_size=(3, 3), stride=(1, 1), padding=(1, 1))\n",
            "    (31): BatchNorm2d(512, eps=1e-05, momentum=0.1, affine=True, track_running_stats=True)\n",
            "    (32): ReLU(inplace=True)\n",
            "    (33): MaxPool2d(kernel_size=2, stride=2, padding=0, dilation=1, ceil_mode=False)\n",
            "    (34): Conv2d(512, 512, kernel_size=(3, 3), stride=(1, 1), padding=(1, 1))\n",
            "    (35): BatchNorm2d(512, eps=1e-05, momentum=0.1, affine=True, track_running_stats=True)\n",
            "    (36): ReLU(inplace=True)\n",
            "    (37): Conv2d(512, 512, kernel_size=(3, 3), stride=(1, 1), padding=(1, 1))\n",
            "    (38): BatchNorm2d(512, eps=1e-05, momentum=0.1, affine=True, track_running_stats=True)\n",
            "    (39): ReLU(inplace=True)\n",
            "    (40): Conv2d(512, 512, kernel_size=(3, 3), stride=(1, 1), padding=(1, 1))\n",
            "    (41): BatchNorm2d(512, eps=1e-05, momentum=0.1, affine=True, track_running_stats=True)\n",
            "    (42): ReLU(inplace=True)\n",
            "    (43): MaxPool2d(kernel_size=2, stride=2, padding=0, dilation=1, ceil_mode=False)\n",
            "  )\n",
            "  (avgpool): AdaptiveAvgPool2d(output_size=(7, 7))\n",
            "  (classifier): Sequential(\n",
            "    (0): Linear(in_features=25088, out_features=4096, bias=True)\n",
            "    (1): ReLU(inplace=True)\n",
            "    (2): Dropout(p=0.5, inplace=False)\n",
            "    (3): Linear(in_features=4096, out_features=4096, bias=True)\n",
            "    (4): ReLU(inplace=True)\n",
            "    (5): Dropout(p=0.5, inplace=False)\n",
            "    (6): Linear(in_features=4096, out_features=1000, bias=True)\n",
            "  )\n",
            ")\n"
          ],
          "name": "stdout"
        }
      ]
    },
    {
      "cell_type": "code",
      "metadata": {
        "id": "fW9QzqHlOV0D",
        "colab_type": "code",
        "colab": {
          "base_uri": "https://localhost:8080/",
          "height": 54
        },
        "outputId": "f284dfd1-4252-4c6e-f544-c4780f9a355a"
      },
      "source": [
        "#changing the final layer of vgg out_feature as 2 bc we have 2 classes\n",
        "#we need to update that features itself using this process\n",
        "final_in_features = vgg.classifier[6].in_features\n",
        "mod_classifier = list(vgg.classifier.children())[: -1]\n",
        "mod_classifier.extend([nn.Linear(final_in_features, num_classes)])\n",
        "print(mod_classifier)"
      ],
      "execution_count": 19,
      "outputs": [
        {
          "output_type": "stream",
          "text": [
            "[Linear(in_features=25088, out_features=4096, bias=True), ReLU(inplace=True), Dropout(p=0.5, inplace=False), Linear(in_features=4096, out_features=4096, bias=True), ReLU(inplace=True), Dropout(p=0.5, inplace=False), Linear(in_features=4096, out_features=2, bias=True)]\n"
          ],
          "name": "stdout"
        }
      ]
    },
    {
      "cell_type": "code",
      "metadata": {
        "id": "YSMixWhZOX4k",
        "colab_type": "code",
        "colab": {
          "base_uri": "https://localhost:8080/",
          "height": 1000
        },
        "outputId": "0f050cc2-e595-43cc-837d-c0c193c3f58a"
      },
      "source": [
        "#changing above updated modified classes into main vgg network\n",
        "vgg.classifier = nn.Sequential(*mod_classifier)\n",
        "print(vgg)"
      ],
      "execution_count": 20,
      "outputs": [
        {
          "output_type": "stream",
          "text": [
            "VGG(\n",
            "  (features): Sequential(\n",
            "    (0): Conv2d(3, 64, kernel_size=(3, 3), stride=(1, 1), padding=(1, 1))\n",
            "    (1): BatchNorm2d(64, eps=1e-05, momentum=0.1, affine=True, track_running_stats=True)\n",
            "    (2): ReLU(inplace=True)\n",
            "    (3): Conv2d(64, 64, kernel_size=(3, 3), stride=(1, 1), padding=(1, 1))\n",
            "    (4): BatchNorm2d(64, eps=1e-05, momentum=0.1, affine=True, track_running_stats=True)\n",
            "    (5): ReLU(inplace=True)\n",
            "    (6): MaxPool2d(kernel_size=2, stride=2, padding=0, dilation=1, ceil_mode=False)\n",
            "    (7): Conv2d(64, 128, kernel_size=(3, 3), stride=(1, 1), padding=(1, 1))\n",
            "    (8): BatchNorm2d(128, eps=1e-05, momentum=0.1, affine=True, track_running_stats=True)\n",
            "    (9): ReLU(inplace=True)\n",
            "    (10): Conv2d(128, 128, kernel_size=(3, 3), stride=(1, 1), padding=(1, 1))\n",
            "    (11): BatchNorm2d(128, eps=1e-05, momentum=0.1, affine=True, track_running_stats=True)\n",
            "    (12): ReLU(inplace=True)\n",
            "    (13): MaxPool2d(kernel_size=2, stride=2, padding=0, dilation=1, ceil_mode=False)\n",
            "    (14): Conv2d(128, 256, kernel_size=(3, 3), stride=(1, 1), padding=(1, 1))\n",
            "    (15): BatchNorm2d(256, eps=1e-05, momentum=0.1, affine=True, track_running_stats=True)\n",
            "    (16): ReLU(inplace=True)\n",
            "    (17): Conv2d(256, 256, kernel_size=(3, 3), stride=(1, 1), padding=(1, 1))\n",
            "    (18): BatchNorm2d(256, eps=1e-05, momentum=0.1, affine=True, track_running_stats=True)\n",
            "    (19): ReLU(inplace=True)\n",
            "    (20): Conv2d(256, 256, kernel_size=(3, 3), stride=(1, 1), padding=(1, 1))\n",
            "    (21): BatchNorm2d(256, eps=1e-05, momentum=0.1, affine=True, track_running_stats=True)\n",
            "    (22): ReLU(inplace=True)\n",
            "    (23): MaxPool2d(kernel_size=2, stride=2, padding=0, dilation=1, ceil_mode=False)\n",
            "    (24): Conv2d(256, 512, kernel_size=(3, 3), stride=(1, 1), padding=(1, 1))\n",
            "    (25): BatchNorm2d(512, eps=1e-05, momentum=0.1, affine=True, track_running_stats=True)\n",
            "    (26): ReLU(inplace=True)\n",
            "    (27): Conv2d(512, 512, kernel_size=(3, 3), stride=(1, 1), padding=(1, 1))\n",
            "    (28): BatchNorm2d(512, eps=1e-05, momentum=0.1, affine=True, track_running_stats=True)\n",
            "    (29): ReLU(inplace=True)\n",
            "    (30): Conv2d(512, 512, kernel_size=(3, 3), stride=(1, 1), padding=(1, 1))\n",
            "    (31): BatchNorm2d(512, eps=1e-05, momentum=0.1, affine=True, track_running_stats=True)\n",
            "    (32): ReLU(inplace=True)\n",
            "    (33): MaxPool2d(kernel_size=2, stride=2, padding=0, dilation=1, ceil_mode=False)\n",
            "    (34): Conv2d(512, 512, kernel_size=(3, 3), stride=(1, 1), padding=(1, 1))\n",
            "    (35): BatchNorm2d(512, eps=1e-05, momentum=0.1, affine=True, track_running_stats=True)\n",
            "    (36): ReLU(inplace=True)\n",
            "    (37): Conv2d(512, 512, kernel_size=(3, 3), stride=(1, 1), padding=(1, 1))\n",
            "    (38): BatchNorm2d(512, eps=1e-05, momentum=0.1, affine=True, track_running_stats=True)\n",
            "    (39): ReLU(inplace=True)\n",
            "    (40): Conv2d(512, 512, kernel_size=(3, 3), stride=(1, 1), padding=(1, 1))\n",
            "    (41): BatchNorm2d(512, eps=1e-05, momentum=0.1, affine=True, track_running_stats=True)\n",
            "    (42): ReLU(inplace=True)\n",
            "    (43): MaxPool2d(kernel_size=2, stride=2, padding=0, dilation=1, ceil_mode=False)\n",
            "  )\n",
            "  (avgpool): AdaptiveAvgPool2d(output_size=(7, 7))\n",
            "  (classifier): Sequential(\n",
            "    (0): Linear(in_features=25088, out_features=4096, bias=True)\n",
            "    (1): ReLU(inplace=True)\n",
            "    (2): Dropout(p=0.5, inplace=False)\n",
            "    (3): Linear(in_features=4096, out_features=4096, bias=True)\n",
            "    (4): ReLU(inplace=True)\n",
            "    (5): Dropout(p=0.5, inplace=False)\n",
            "    (6): Linear(in_features=4096, out_features=2, bias=True)\n",
            "  )\n",
            ")\n"
          ],
          "name": "stdout"
        }
      ]
    },
    {
      "cell_type": "code",
      "metadata": {
        "id": "lteqNd8LOaI9",
        "colab_type": "code",
        "colab": {}
      },
      "source": [
        "def evaluation(dataloader, model):\n",
        "  total, correct = 0, 0\n",
        "  for data in dataloader:\n",
        "    inputs, labels = data\n",
        "    inputs, labels = inputs.to(device), labels.to(device)\n",
        "    outputs = model(inputs)\n",
        "    _, pred = torch.max(outputs.data, 1)\n",
        "    total += labels.size(0)\n",
        "    correct += (pred==labels).sum().item()\n",
        "  return 100 * correct/ total"
      ],
      "execution_count": 21,
      "outputs": []
    },
    {
      "cell_type": "code",
      "metadata": {
        "id": "BMPFoKdJOcgG",
        "colab_type": "code",
        "colab": {}
      },
      "source": [
        "vgg = vgg.to(device)\n",
        "loss_fn = nn.CrossEntropyLoss()\n",
        "opt = optim.SGD(vgg.parameters(), lr=0.001, momentum=0.9)"
      ],
      "execution_count": 48,
      "outputs": []
    },
    {
      "cell_type": "code",
      "metadata": {
        "id": "xRtx0ixVOeVh",
        "colab_type": "code",
        "colab": {}
      },
      "source": [
        "import copy"
      ],
      "execution_count": 49,
      "outputs": []
    },
    {
      "cell_type": "code",
      "metadata": {
        "id": "yQmxpHU0Osem",
        "colab_type": "code",
        "colab": {
          "base_uri": "https://localhost:8080/",
          "height": 1000
        },
        "outputId": "4aace434-7498-4f30-fe6a-63dedbf5c346"
      },
      "source": [
        "loss_epoch_arr = []\n",
        "max_epochs = 25\n",
        "\n",
        "min_loss = 1000\n",
        "\n",
        "n_iters = len(train_loader)\n",
        "\n",
        "for epoch in range(max_epochs):\n",
        "\n",
        "  for i, data in enumerate(train_loader, 0):\n",
        "\n",
        "    inputs, labels = data\n",
        "    inputs, labels = inputs.to(device), labels.to(device)\n",
        "\n",
        "    opt.zero_grad()\n",
        "\n",
        "    outputs = vgg(inputs)\n",
        "    loss = loss_fn(outputs, labels)\n",
        "    loss.backward()\n",
        "    opt.step()\n",
        "\n",
        "    if min_loss > loss.item():\n",
        "      min_loss = loss.item()\n",
        "      best_model = copy.deepcopy(vgg.state_dict())\n",
        "      print('Min loss %0.2f' % min_loss)\n",
        "\n",
        "    if i % 100 == 0:\n",
        "      print('Iteration: %d/%d, Loss: %0.2f' % (i, n_iters, loss.item()))\n",
        "\n",
        "    del inputs, labels, outputs\n",
        "    torch.cuda.empty_cache()\n",
        "\n",
        "  loss_epoch_arr.append(loss.item())\n",
        "\n",
        "  print('Epoch: %d/%d, Test acc: %0.2f, Train acc: %0.2f' % (\n",
        "      epoch, max_epochs,\n",
        "      evaluation(test_loader, vgg), evaluation(train_loader, vgg)\n",
        "  ))\n",
        "\n",
        "plt.plot(loss_epoch_arr)\n",
        "plt.show()"
      ],
      "execution_count": 50,
      "outputs": [
        {
          "output_type": "stream",
          "text": [
            "Min loss 0.30\n",
            "Iteration: 0/603, Loss: 0.30\n",
            "Min loss 0.28\n",
            "Min loss 0.27\n",
            "Min loss 0.24\n",
            "Min loss 0.21\n",
            "Min loss 0.21\n",
            "Min loss 0.16\n",
            "Iteration: 100/603, Loss: 0.29\n",
            "Min loss 0.16\n",
            "Min loss 0.13\n",
            "Iteration: 200/603, Loss: 0.50\n",
            "Iteration: 300/603, Loss: 0.31\n",
            "Min loss 0.12\n",
            "Iteration: 400/603, Loss: 0.20\n",
            "Iteration: 500/603, Loss: 0.28\n",
            "Min loss 0.12\n",
            "Iteration: 600/603, Loss: 0.24\n",
            "Epoch: 0/25, Test acc: 86.97, Train acc: 86.66\n",
            "Iteration: 0/603, Loss: 0.26\n",
            "Iteration: 100/603, Loss: 0.42\n",
            "Iteration: 200/603, Loss: 0.44\n",
            "Iteration: 300/603, Loss: 0.29\n",
            "Iteration: 400/603, Loss: 0.24\n",
            "Iteration: 500/603, Loss: 0.31\n",
            "Iteration: 600/603, Loss: 0.18\n",
            "Epoch: 1/25, Test acc: 84.98, Train acc: 86.71\n",
            "Iteration: 0/603, Loss: 0.29\n",
            "Min loss 0.07\n",
            "Iteration: 100/603, Loss: 0.25\n",
            "Iteration: 200/603, Loss: 0.23\n",
            "Iteration: 300/603, Loss: 0.19\n",
            "Iteration: 400/603, Loss: 0.29\n",
            "Iteration: 500/603, Loss: 0.24\n",
            "Iteration: 600/603, Loss: 0.39\n",
            "Epoch: 2/25, Test acc: 87.37, Train acc: 87.51\n",
            "Iteration: 0/603, Loss: 0.20\n",
            "Iteration: 100/603, Loss: 0.42\n",
            "Iteration: 200/603, Loss: 0.36\n",
            "Iteration: 300/603, Loss: 0.28\n",
            "Iteration: 400/603, Loss: 0.20\n",
            "Iteration: 500/603, Loss: 0.34\n",
            "Iteration: 600/603, Loss: 0.21\n",
            "Epoch: 3/25, Test acc: 85.74, Train acc: 88.03\n",
            "Iteration: 0/603, Loss: 0.37\n",
            "Iteration: 100/603, Loss: 0.33\n",
            "Iteration: 200/603, Loss: 0.31\n",
            "Iteration: 300/603, Loss: 0.23\n",
            "Iteration: 400/603, Loss: 0.55\n",
            "Iteration: 500/603, Loss: 0.48\n",
            "Iteration: 600/603, Loss: 0.32\n",
            "Epoch: 4/25, Test acc: 84.43, Train acc: 87.42\n",
            "Iteration: 0/603, Loss: 0.28\n",
            "Iteration: 100/603, Loss: 0.15\n",
            "Iteration: 200/603, Loss: 0.39\n",
            "Min loss 0.07\n",
            "Iteration: 300/603, Loss: 0.45\n",
            "Iteration: 400/603, Loss: 0.26\n",
            "Iteration: 500/603, Loss: 0.30\n",
            "Iteration: 600/603, Loss: 0.23\n",
            "Epoch: 5/25, Test acc: 85.78, Train acc: 87.77\n",
            "Iteration: 0/603, Loss: 0.23\n",
            "Iteration: 100/603, Loss: 0.27\n",
            "Iteration: 200/603, Loss: 0.51\n",
            "Iteration: 300/603, Loss: 0.13\n",
            "Iteration: 400/603, Loss: 0.31\n",
            "Iteration: 500/603, Loss: 0.55\n",
            "Iteration: 600/603, Loss: 0.15\n",
            "Epoch: 6/25, Test acc: 88.21, Train acc: 88.10\n",
            "Iteration: 0/603, Loss: 0.28\n",
            "Iteration: 100/603, Loss: 0.27\n",
            "Iteration: 200/603, Loss: 0.57\n",
            "Iteration: 300/603, Loss: 0.33\n",
            "Iteration: 400/603, Loss: 0.22\n",
            "Iteration: 500/603, Loss: 0.41\n",
            "Iteration: 600/603, Loss: 0.30\n",
            "Epoch: 7/25, Test acc: 86.25, Train acc: 87.70\n",
            "Iteration: 0/603, Loss: 0.25\n",
            "Iteration: 100/603, Loss: 0.24\n",
            "Iteration: 200/603, Loss: 0.33\n",
            "Iteration: 300/603, Loss: 0.30\n",
            "Iteration: 400/603, Loss: 0.34\n",
            "Iteration: 500/603, Loss: 0.32\n",
            "Iteration: 600/603, Loss: 0.43\n",
            "Epoch: 8/25, Test acc: 86.97, Train acc: 88.10\n",
            "Iteration: 0/603, Loss: 0.28\n",
            "Iteration: 100/603, Loss: 0.12\n",
            "Iteration: 200/603, Loss: 0.53\n",
            "Iteration: 300/603, Loss: 0.29\n",
            "Iteration: 400/603, Loss: 0.17\n",
            "Iteration: 500/603, Loss: 0.16\n",
            "Iteration: 600/603, Loss: 0.57\n",
            "Epoch: 9/25, Test acc: 86.21, Train acc: 88.08\n",
            "Iteration: 0/603, Loss: 0.16\n",
            "Iteration: 100/603, Loss: 0.26\n",
            "Iteration: 200/603, Loss: 0.27\n",
            "Iteration: 300/603, Loss: 0.21\n",
            "Iteration: 400/603, Loss: 0.16\n",
            "Iteration: 500/603, Loss: 0.15\n",
            "Iteration: 600/603, Loss: 0.35\n",
            "Epoch: 10/25, Test acc: 86.76, Train acc: 88.37\n",
            "Iteration: 0/603, Loss: 0.32\n",
            "Iteration: 100/603, Loss: 0.29\n",
            "Iteration: 200/603, Loss: 0.26\n",
            "Iteration: 300/603, Loss: 0.20\n",
            "Iteration: 400/603, Loss: 0.32\n",
            "Iteration: 500/603, Loss: 0.33\n",
            "Iteration: 600/603, Loss: 0.30\n",
            "Epoch: 11/25, Test acc: 87.66, Train acc: 88.70\n",
            "Iteration: 0/603, Loss: 0.14\n",
            "Iteration: 100/603, Loss: 0.11\n",
            "Iteration: 200/603, Loss: 0.31\n",
            "Iteration: 300/603, Loss: 0.50\n",
            "Iteration: 400/603, Loss: 0.26\n",
            "Iteration: 500/603, Loss: 0.25\n",
            "Min loss 0.07\n",
            "Iteration: 600/603, Loss: 0.32\n",
            "Epoch: 12/25, Test acc: 87.63, Train acc: 88.05\n",
            "Iteration: 0/603, Loss: 0.21\n",
            "Iteration: 100/603, Loss: 0.29\n",
            "Iteration: 200/603, Loss: 0.36\n",
            "Iteration: 300/603, Loss: 0.31\n",
            "Iteration: 400/603, Loss: 0.30\n",
            "Iteration: 500/603, Loss: 0.27\n",
            "Iteration: 600/603, Loss: 0.21\n",
            "Epoch: 13/25, Test acc: 87.19, Train acc: 88.26\n",
            "Iteration: 0/603, Loss: 0.33\n",
            "Iteration: 100/603, Loss: 0.18\n",
            "Iteration: 200/603, Loss: 0.16\n",
            "Iteration: 300/603, Loss: 0.14\n",
            "Iteration: 400/603, Loss: 0.32\n",
            "Iteration: 500/603, Loss: 0.22\n",
            "Iteration: 600/603, Loss: 0.31\n",
            "Epoch: 14/25, Test acc: 87.08, Train acc: 88.35\n",
            "Iteration: 0/603, Loss: 0.26\n",
            "Iteration: 100/603, Loss: 0.30\n",
            "Iteration: 200/603, Loss: 0.17\n",
            "Iteration: 300/603, Loss: 0.10\n",
            "Iteration: 400/603, Loss: 0.35\n",
            "Iteration: 500/603, Loss: 0.25\n",
            "Iteration: 600/603, Loss: 0.10\n",
            "Epoch: 15/25, Test acc: 87.92, Train acc: 88.20\n",
            "Iteration: 0/603, Loss: 0.19\n",
            "Iteration: 100/603, Loss: 0.21\n",
            "Iteration: 200/603, Loss: 0.24\n",
            "Iteration: 300/603, Loss: 0.54\n",
            "Iteration: 400/603, Loss: 0.22\n",
            "Iteration: 500/603, Loss: 0.41\n",
            "Iteration: 600/603, Loss: 0.42\n",
            "Epoch: 16/25, Test acc: 86.65, Train acc: 88.90\n",
            "Iteration: 0/603, Loss: 0.34\n",
            "Iteration: 100/603, Loss: 0.29\n",
            "Iteration: 200/603, Loss: 0.18\n",
            "Iteration: 300/603, Loss: 0.37\n",
            "Min loss 0.07\n",
            "Iteration: 400/603, Loss: 0.23\n",
            "Iteration: 500/603, Loss: 0.35\n",
            "Iteration: 600/603, Loss: 0.38\n",
            "Epoch: 17/25, Test acc: 87.19, Train acc: 88.73\n",
            "Iteration: 0/603, Loss: 0.19\n",
            "Iteration: 100/603, Loss: 0.12\n",
            "Iteration: 200/603, Loss: 0.38\n",
            "Iteration: 300/603, Loss: 0.31\n",
            "Iteration: 400/603, Loss: 0.45\n",
            "Iteration: 500/603, Loss: 0.26\n",
            "Iteration: 600/603, Loss: 0.22\n",
            "Epoch: 18/25, Test acc: 87.63, Train acc: 88.77\n",
            "Iteration: 0/603, Loss: 0.30\n",
            "Iteration: 100/603, Loss: 0.22\n",
            "Iteration: 200/603, Loss: 0.20\n",
            "Iteration: 300/603, Loss: 0.24\n",
            "Iteration: 400/603, Loss: 0.32\n",
            "Iteration: 500/603, Loss: 0.22\n",
            "Iteration: 600/603, Loss: 0.28\n",
            "Epoch: 19/25, Test acc: 87.70, Train acc: 88.74\n",
            "Iteration: 0/603, Loss: 0.27\n",
            "Iteration: 100/603, Loss: 0.26\n",
            "Iteration: 200/603, Loss: 0.32\n",
            "Iteration: 300/603, Loss: 0.22\n",
            "Min loss 0.05\n",
            "Iteration: 400/603, Loss: 0.40\n",
            "Iteration: 500/603, Loss: 0.26\n",
            "Iteration: 600/603, Loss: 0.18\n",
            "Epoch: 20/25, Test acc: 86.36, Train acc: 88.84\n",
            "Iteration: 0/603, Loss: 0.14\n",
            "Iteration: 100/603, Loss: 0.15\n",
            "Iteration: 200/603, Loss: 0.19\n",
            "Iteration: 300/603, Loss: 0.25\n",
            "Iteration: 400/603, Loss: 0.36\n",
            "Iteration: 500/603, Loss: 0.18\n",
            "Iteration: 600/603, Loss: 0.30\n",
            "Epoch: 21/25, Test acc: 87.41, Train acc: 88.66\n",
            "Iteration: 0/603, Loss: 0.20\n",
            "Iteration: 100/603, Loss: 0.16\n",
            "Iteration: 200/603, Loss: 0.09\n",
            "Iteration: 300/603, Loss: 0.11\n",
            "Iteration: 400/603, Loss: 0.29\n",
            "Iteration: 500/603, Loss: 0.53\n",
            "Iteration: 600/603, Loss: 0.14\n",
            "Epoch: 22/25, Test acc: 88.17, Train acc: 89.21\n",
            "Iteration: 0/603, Loss: 0.21\n",
            "Iteration: 100/603, Loss: 0.24\n",
            "Iteration: 200/603, Loss: 0.50\n",
            "Iteration: 300/603, Loss: 0.21\n",
            "Iteration: 400/603, Loss: 0.17\n",
            "Iteration: 500/603, Loss: 0.14\n",
            "Iteration: 600/603, Loss: 0.20\n",
            "Epoch: 23/25, Test acc: 88.35, Train acc: 89.01\n",
            "Iteration: 0/603, Loss: 0.29\n",
            "Iteration: 100/603, Loss: 0.25\n",
            "Iteration: 200/603, Loss: 0.27\n",
            "Iteration: 300/603, Loss: 0.20\n",
            "Iteration: 400/603, Loss: 0.29\n",
            "Iteration: 500/603, Loss: 0.26\n",
            "Iteration: 600/603, Loss: 0.31\n",
            "Epoch: 24/25, Test acc: 88.03, Train acc: 88.73\n"
          ],
          "name": "stdout"
        },
        {
          "output_type": "display_data",
          "data": {
            "image/png": "[encoded data removed]",
            "text/plain": [
              "<Figure size 432x288 with 1 Axes>"
            ]
          },
          "metadata": {
            "tags": [],
            "needs_background": "light"
          }
        }
      ]
    },
    {
      "cell_type": "code",
      "metadata": {
        "id": "xE7iQQPBO03l",
        "colab_type": "code",
        "colab": {
          "base_uri": "https://localhost:8080/",
          "height": 34
        },
        "outputId": "f77d6d2b-1191-410a-d31d-3ee102e02ae9"
      },
      "source": [
        "print('Test acc: %0.2f, Train acc: %0.2f' % (evaluation(test_loader,vgg), evaluation(train_loader,vgg)))"
      ],
      "execution_count": 51,
      "outputs": [
        {
          "output_type": "stream",
          "text": [
            "Test acc: 87.70, Train acc: 88.75\n"
          ],
          "name": "stdout"
        }
      ]
    },
    {
      "cell_type": "code",
      "metadata": {
        "id": "O6NTwvY_Avkq",
        "colab_type": "code",
        "colab": {}
      },
      "source": [
        "path = \"vgg-trained-modelgpu.pth\"\n",
        "torch.save(vgg, path)"
      ],
      "execution_count": 52,
      "outputs": []
    },
    {
      "cell_type": "code",
      "metadata": {
        "id": "FuP2X3GU2Ofj",
        "colab_type": "code",
        "colab": {}
      },
      "source": [
        "vgg = vgg.to('cpu')"
      ],
      "execution_count": 53,
      "outputs": []
    },
    {
      "cell_type": "code",
      "metadata": {
        "id": "qO4fPsSX2QU9",
        "colab_type": "code",
        "colab": {}
      },
      "source": [
        "from glob import glob\n",
        "from PIL import Image\n",
        "from termcolor import colored"
      ],
      "execution_count": 54,
      "outputs": []
    },
    {
      "cell_type": "code",
      "metadata": {
        "id": "04K725sJ2VHY",
        "colab_type": "code",
        "colab": {}
      },
      "source": [
        "def load_input_image(img_path):    \n",
        "    image = Image.open(img_path)\n",
        "    prediction_transform = transforms.Compose([transforms.Resize(size=(224, 224)),\n",
        "                                     transforms.ToTensor(), \n",
        "                                     transforms.Normalize([0.5, 0.5, 0.5], \n",
        "                                                          [0.5, 0.5, 0.5])])\n",
        "\n",
        "    # discard the transparent, alpha channel (that's the :3) and add the batch dimension\n",
        "    image = prediction_transform(image)[:3,:,:].unsqueeze(0)\n",
        "    return image"
      ],
      "execution_count": 55,
      "outputs": []
    },
    {
      "cell_type": "code",
      "metadata": {
        "id": "azA_cmVW2XL7",
        "colab_type": "code",
        "colab": {
          "base_uri": "https://localhost:8080/",
          "height": 34
        },
        "outputId": "01d531ed-a71a-4c28-d1de-4aef6698b0b1"
      },
      "source": [
        "class_names=['Parasitized','Uninfected']\n",
        "img_path = './drive/My Drive/cell_images/Parasitized/C100P61ThinF_IMG_20150918_145042_cell_162.png'\n",
        "img = load_input_image(img_path)\n",
        "out = vgg(img)\n",
        "max_values, pred_class = torch.max(out.data, 1)\n",
        "if (pred_class == 0):\n",
        "  print(colored('Parasitized', 'green'))\n",
        "else:\n",
        "  print(colored('Uninfected', 'red'))"
      ],
      "execution_count": 56,
      "outputs": [
        {
          "output_type": "stream",
          "text": [
            "\u001b[32mParasitized\u001b[0m\n"
          ],
          "name": "stdout"
        }
      ]
    },
    {
      "cell_type": "code",
      "metadata": {
        "id": "y4wXga1s2aVa",
        "colab_type": "code",
        "colab": {}
      },
      "source": [
        ""
      ],
      "execution_count": 39,
      "outputs": []
    },
    {
      "cell_type": "code",
      "metadata": {
        "id": "HEMV3NhT27rq",
        "colab_type": "code",
        "colab": {
          "base_uri": "https://localhost:8080/",
          "height": 34
        },
        "outputId": "40fb1fff-338f-4802-c924-4ab02e16efbd"
      },
      "source": [
        "print(max_values)"
      ],
      "execution_count": 42,
      "outputs": [
        {
          "output_type": "stream",
          "text": [
            "tensor([2.5255])\n"
          ],
          "name": "stdout"
        }
      ]
    },
    {
      "cell_type": "code",
      "metadata": {
        "id": "8QcqlkT64SRD",
        "colab_type": "code",
        "colab": {}
      },
      "source": [
        ""
      ],
      "execution_count": null,
      "outputs": []
    }
  ]
}